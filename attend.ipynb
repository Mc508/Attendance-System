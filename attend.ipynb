{
 "cells": [
  {
   "cell_type": "code",
   "execution_count": 2,
   "metadata": {},
   "outputs": [
    {
     "name": "stdout",
     "output_type": "stream",
     "text": [
      "Reading code.....\n"
     ]
    }
   ],
   "source": [
    "import cv2\n",
    "import numpy as np \n",
    "from pyzbar import pyzbar\n",
    "import sys\n",
    "import time\n",
    "import base64\n",
    "\n",
    "#start web cam\n",
    "\n",
    "cap =cv2.VideoCapture(0)\n",
    "\n",
    "names=[]\n",
    "fob=open('attendance.csv','a+')\n",
    "def enterData(z):\n",
    "    if z in names:\n",
    "        pass\n",
    "    else:\n",
    "        names.append(z)\n",
    "        z=\".join(str(z))\"\n",
    "        fob.write(z+'\\n')\n",
    "        return names\n",
    "\n",
    "print('Reading code.....')\n",
    "\n",
    "#function data present or not\n",
    "\n",
    "def checkData(data):\n",
    "    data =str(data)\n",
    "    if data in names:\n",
    "        print('Alreaddy present')\n",
    "    else:\n",
    "        print('\\n'+str(len(names)+1)+'\\n'+'present done')\n",
    "        enterData(data)\n",
    "\n",
    "while True:\n",
    "    _,frame = cap.read()\n",
    "    decodeobject = pyzbar.decode(frame)\n",
    "    for obj in decodeobject:\n",
    "        checkData(obj.data)\n",
    "        time.sleep(1)\n",
    "\n",
    "cv2.imshow('Frame',frame)   \n",
    "\n",
    "\n",
    "if cv2.waitKey(1)& 0xff==ord('s'):\n",
    "    cv2.destroyAllwindows()\n",
    "    break\n",
    "\n",
    "fob.close()\n",
    "\n"
   ]
  },
  {
   "cell_type": "code",
   "execution_count": 2,
   "metadata": {},
   "outputs": [],
   "source": [
    "import csv\n",
    "import pyqrcode\n",
    "import pandas as pd\n",
    "\n",
    "def createQrcode():\n",
    "    \n",
    "    df = pd.read_csv(\"data.csv\")\n",
    "\n",
    "    for index, values in df.iterrows():\n",
    "\n",
    "        en_no = values['Enrollment_no']\n",
    "        name = values['Name']\n",
    "\n",
    "        data = f'''\n",
    "        \n",
    "        Enrollment_no: {en_no}\\n\n",
    "        Name: {name}\n",
    "        \n",
    "        '''\n",
    "        image = pyqrcode.create(data)\n",
    "        image.svg(f\"{en_no}_{name}.bmp\", scale=5)\n",
    "\n",
    "\n",
    "createQrcode()"
   ]
  },
  {
   "cell_type": "code",
   "execution_count": 1,
   "metadata": {},
   "outputs": [
    {
     "name": "stdout",
     "output_type": "stream",
     "text": [
      "Reading code.....\n"
     ]
    }
   ],
   "source": [
    "import cv2\n",
    "import numpy as np \n",
    "from pyzbar import pyzbar\n",
    "import sys\n",
    "import time\n",
    "import base64\n",
    "\n",
    "#start web cam\n",
    "\n",
    "cap =cv2.VideoCapture(0)\n",
    "\n",
    "names=[]\n",
    "fob=open('attendance.csv','a+')\n",
    "def enterData(z):\n",
    "    if z in names:\n",
    "        pass\n",
    "    else:\n",
    "        names.append(z)\n",
    "        z=\".join(str(z))\"\n",
    "        fob.write(z+'\\n')\n",
    "        return names\n",
    "\n",
    "print('Reading code.....')\n",
    "\n",
    "#function data present or not\n",
    "\n",
    "def checkData(data):\n",
    "    data =str(data)\n",
    "    if data in names:\n",
    "        print('Alreaddy present')\n",
    "    else:\n",
    "        print('\\n'+str(len(enrollment_no,names)+1)+'\\n'+'present done')\n",
    "        enterData(data)\n",
    "\n",
    "while True:\n",
    "    _,frame = cap.read()\n",
    "    decodeobject = pyzbar.decode(frame)\n",
    "    for obj in decodeobject:\n",
    "        checkData(obj.data)\n",
    "        time.sleep(1)\n",
    "\n",
    "cv2.imshow('Frame',frame)   \n",
    "\n",
    "\n",
    "if cv2.waitKey(1)& 0xff==ord('s'):\n",
    "    cv2.destroyAllwindows()\n",
    "    break\n",
    "\n",
    "fob.close()\n",
    "\n"
   ]
  },
  {
   "cell_type": "code",
   "execution_count": 1,
   "metadata": {},
   "outputs": [
    {
     "name": "stdout",
     "output_type": "stream",
     "text": [
      "QRCODE\n",
      "\n",
      "        \n",
      "        Enrollment_no: 20SOECE11021\n",
      "\n",
      "        Name: SHUBHAM\n",
      "        \n",
      "        \n",
      "sorry\n"
     ]
    }
   ],
   "source": [
    "import cv2\n",
    "from pyzbar.pyzbar import decode\n",
    "import time\n",
    "\n",
    "cap  = cv2.VideoCapture(0)\n",
    "\n",
    "cap.set(3, 640)  #3- Width\n",
    "cap.set(4, 480)  #4- Height\n",
    "used_codes=[]\n",
    "\n",
    "camera = True\n",
    "while camera:\n",
    "\n",
    "    success, frame = cap.read()\n",
    "\n",
    "    for code in decode(frame):\n",
    "        if code.data.decode('utf-8') not in used_codes:\n",
    "            print(code.type) \n",
    "            print(code.data.decode('utf-8'))\n",
    "            used_codes.append(code.data.decode('utf-8'))\n",
    "            time.sleep(5)\n",
    "        elif code.data.decode('utf-8')  in used_codes:\n",
    "            print('sorry')\n",
    "            time.sleep(5)\n",
    "        else :\n",
    "            pass\n",
    "\n",
    "    cv2.imshow('Testing-code-scan', frame)\n",
    "    cv2.waitKey(1)"
   ]
  },
  {
   "cell_type": "code",
   "execution_count": null,
   "metadata": {},
   "outputs": [],
   "source": []
  }
 ],
 "metadata": {
  "kernelspec": {
   "display_name": "Python 3.10.2 64-bit",
   "language": "python",
   "name": "python3"
  },
  "language_info": {
   "codemirror_mode": {
    "name": "ipython",
    "version": 3
   },
   "file_extension": ".py",
   "mimetype": "text/x-python",
   "name": "python",
   "nbconvert_exporter": "python",
   "pygments_lexer": "ipython3",
   "version": "3.10.2"
  },
  "orig_nbformat": 4,
  "vscode": {
   "interpreter": {
    "hash": "ecd724d921734a527ebe3e8b64dff4f67e20479586a2e56b4cd0ddded5b64780"
   }
  }
 },
 "nbformat": 4,
 "nbformat_minor": 2
}
